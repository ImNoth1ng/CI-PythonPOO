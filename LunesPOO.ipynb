{
  "nbformat": 4,
  "nbformat_minor": 0,
  "metadata": {
    "colab": {
      "provenance": [],
      "authorship_tag": "ABX9TyNQ3MGJMWB1Cjz3JRftHrF7",
      "include_colab_link": true
    },
    "kernelspec": {
      "name": "python3",
      "display_name": "Python 3"
    },
    "language_info": {
      "name": "python"
    }
  },
  "cells": [
    {
      "cell_type": "markdown",
      "metadata": {
        "id": "view-in-github",
        "colab_type": "text"
      },
      "source": [
        "<a href=\"https://colab.research.google.com/github/ImNoth1ng/CI-PythonPOO/blob/main/LunesPOO.ipynb\" target=\"_parent\"><img src=\"https://colab.research.google.com/assets/colab-badge.svg\" alt=\"Open In Colab\"/></a>"
      ]
    },
    {
      "cell_type": "code",
      "execution_count": 4,
      "metadata": {
        "colab": {
          "base_uri": "https://localhost:8080/",
          "height": 53
        },
        "id": "-zHsD9-_39PK",
        "outputId": "6d7ea4d3-cae3-4903-8580-c6663eaa5a7c"
      },
      "outputs": [
        {
          "output_type": "stream",
          "name": "stdout",
          "text": [
            "Hola Mundo\n"
          ]
        },
        {
          "output_type": "execute_result",
          "data": {
            "text/plain": [
              "'\\nc\\no\\nm\\ne\\nn\\nt\\na\\nr\\ni\\no\\n'"
            ],
            "application/vnd.google.colaboratory.intrinsic+json": {
              "type": "string"
            }
          },
          "metadata": {},
          "execution_count": 4
        }
      ],
      "source": [
        "# Esto es un comentario\n",
        "print(\"Hola Mundo\")  # Esto imprime \"Hola Mundo\"\n",
        "\n",
        "\"\"\"\n",
        "c\n",
        "o\n",
        "m\n",
        "e\n",
        "n\n",
        "t\n",
        "a\n",
        "r\n",
        "i\n",
        "o\n",
        "\"\"\""
      ]
    },
    {
      "cell_type": "code",
      "source": [
        "!ls -a"
      ],
      "metadata": {
        "colab": {
          "base_uri": "https://localhost:8080/"
        },
        "id": "mi7HhTOb6Xmd",
        "outputId": "f44cc88a-2dc5-4a5a-a4b3-3a3b121af282"
      },
      "execution_count": 3,
      "outputs": [
        {
          "output_type": "stream",
          "name": "stdout",
          "text": [
            ".  ..  .config\tsample_data\n"
          ]
        }
      ]
    },
    {
      "cell_type": "code",
      "source": [
        "print(\"Hola\", \"Mundo\")\n",
        " \n",
        "print(\"Hola\" + \"Mundo\")\n",
        " \n",
        "print(\"Hola\", \"Mundo\", sep=\"-*-\")  # Imprime: Hola-Mundo\n",
        " \n",
        "print(\"Hola\", end='.\\n')\n",
        "print(\"Mundo\")  # Imprime: HolaMundo"
      ],
      "metadata": {
        "colab": {
          "base_uri": "https://localhost:8080/"
        },
        "id": "0nztyLN467bv",
        "outputId": "46d1739a-6364-466e-c990-2759c367d7a2"
      },
      "execution_count": 11,
      "outputs": [
        {
          "output_type": "stream",
          "name": "stdout",
          "text": [
            "Hola Mundo\n",
            "HolaMundo\n",
            "Hola-*-Mundo\n",
            "Hola.\n",
            "Mundo\n"
          ]
        }
      ]
    },
    {
      "cell_type": "code",
      "source": [
        "nombre = \"Luis\"\n",
        "carrera = \"ICO, la mejor\"\n",
        "print(\"Mi nombre es {0} y estudio {1} en la FES Aragón\".format(nombre, carrera))\n",
        "print(f\"Mi nombre es {nombre} y soy estudiante de {carrera} en la FES Aragón\")"
      ],
      "metadata": {
        "colab": {
          "base_uri": "https://localhost:8080/"
        },
        "id": "h8cuIpUY7qdM",
        "outputId": "471e07f8-3a75-43a6-b0b8-1e47a43b3426"
      },
      "execution_count": 16,
      "outputs": [
        {
          "output_type": "stream",
          "name": "stdout",
          "text": [
            "Mi nombre es Luis y estudio ICO, la mejor en la FES Aragón\n",
            "Mi nombre es Luis y soy estudiante de ICO, la mejor en la FES Aragón\n"
          ]
        }
      ]
    },
    {
      "cell_type": "code",
      "source": [
        "# Operadores aritméticos\n",
        "suma = 5 + 3    # 8\n",
        "resta = 5 - 3   # 2\n",
        "producto = 5 * 3  # 15\n",
        "division = 5 / 3  # 1.66667\n",
        "division2 = 5 // 3 # 1\n",
        "modulo = 5 % 3   # 2\n",
        "potencia = 5 ** 3  # 125"
      ],
      "metadata": {
        "id": "72gmPlw6_J3U"
      },
      "execution_count": 19,
      "outputs": []
    },
    {
      "cell_type": "code",
      "source": [
        "division"
      ],
      "metadata": {
        "colab": {
          "base_uri": "https://localhost:8080/"
        },
        "id": "YdAdxpyO_OF-",
        "outputId": "88d576ce-4cb1-4546-a979-de58ca8badb2"
      },
      "execution_count": 21,
      "outputs": [
        {
          "output_type": "execute_result",
          "data": {
            "text/plain": [
              "1.6666666666666667"
            ]
          },
          "metadata": {},
          "execution_count": 21
        }
      ]
    },
    {
      "cell_type": "code",
      "source": [
        "# Operadores de comparación\n",
        "igual = 5 == 3  # False\n",
        "diferente = 5 != 3  # True\n",
        "mayor_que = 5 > 3  # True\n",
        "menor_que = 5 < 3  # False\n",
        "mayor_o_igual_que = 5 >= 3  # True\n",
        "menor_o_igual_que = 5 <= 3  # False"
      ],
      "metadata": {
        "id": "g_ltji4U_oFF"
      },
      "execution_count": 22,
      "outputs": []
    },
    {
      "cell_type": "code",
      "source": [
        "menor_que"
      ],
      "metadata": {
        "colab": {
          "base_uri": "https://localhost:8080/"
        },
        "id": "sHRgVEXr_2Be",
        "outputId": "1cf5091a-896d-4841-ae39-e1cd959658eb"
      },
      "execution_count": 23,
      "outputs": [
        {
          "output_type": "execute_result",
          "data": {
            "text/plain": [
              "False"
            ]
          },
          "metadata": {},
          "execution_count": 23
        }
      ]
    },
    {
      "cell_type": "code",
      "source": [
        "# Operadores lógicos\n",
        "y = True and False  # False\n",
        "o = True or False  # True\n",
        "no = not False  # False"
      ],
      "metadata": {
        "id": "ZCBWfm6W_7Xu"
      },
      "execution_count": 24,
      "outputs": []
    },
    {
      "cell_type": "code",
      "source": [
        "no"
      ],
      "metadata": {
        "colab": {
          "base_uri": "https://localhost:8080/"
        },
        "id": "JYCwKvzeACXt",
        "outputId": "57c7305b-a3c5-4ce7-fa45-7c3b992a244f"
      },
      "execution_count": 27,
      "outputs": [
        {
          "output_type": "execute_result",
          "data": {
            "text/plain": [
              "False"
            ]
          },
          "metadata": {},
          "execution_count": 27
        }
      ]
    },
    {
      "cell_type": "code",
      "source": [
        "saludo = \"Hola Mundo\"\n",
        "cita = 'Los alumnos\\n de ICO \\t\\tdicen: \"Hola Mundo\"'\n",
        "parrafo = \"\"\"Esto es un párrafo\n",
        "que abarca varias\n",
        "líneas\"\"\""
      ],
      "metadata": {
        "id": "NHHjxiX-AorK"
      },
      "execution_count": 36,
      "outputs": []
    },
    {
      "cell_type": "code",
      "source": [
        "print(cita)"
      ],
      "metadata": {
        "colab": {
          "base_uri": "https://localhost:8080/"
        },
        "id": "0XQYBzjKBBJ8",
        "outputId": "411abc98-875d-4ea1-c80a-0bbfa38c4781"
      },
      "execution_count": 37,
      "outputs": [
        {
          "output_type": "stream",
          "name": "stdout",
          "text": [
            "Los alumnos\n",
            " de ICO \t\tdicen: \"Hola Mundo\"\n"
          ]
        }
      ]
    },
    {
      "cell_type": "code",
      "source": [
        "def fn_uno():\n",
        "    print(\"Hola\")\n",
        " \n",
        "a, b, c = 10, \"Hola\", fn_uno\n",
        "print(a)\n",
        "print(b)\n",
        "print(c)\n",
        "c()\n",
        "\n",
        "c.__call__()"
      ],
      "metadata": {
        "colab": {
          "base_uri": "https://localhost:8080/"
        },
        "id": "csI9Pix3ByNZ",
        "outputId": "a1fee0b8-7343-4512-8ce2-c3d838dd5f8b"
      },
      "execution_count": 48,
      "outputs": [
        {
          "output_type": "stream",
          "name": "stdout",
          "text": [
            "10\n",
            "Hola\n",
            "<function fn_uno at 0x7f7cb93871c0>\n",
            "Hola\n",
            "Hola\n"
          ]
        }
      ]
    },
    {
      "cell_type": "code",
      "source": [
        "# entrada por teclado\n",
        "nombre = input(\"Por favor, introduce tu nombre: \")\n",
        "print(f\"Hola {nombre}!\")"
      ],
      "metadata": {
        "colab": {
          "base_uri": "https://localhost:8080/"
        },
        "id": "41g946-jDDNl",
        "outputId": "befb005d-f320-4ecf-9d8f-7fb32b5b131b"
      },
      "execution_count": 49,
      "outputs": [
        {
          "output_type": "stream",
          "name": "stdout",
          "text": [
            "Por favor, introduce tu nombre: mondongo\n",
            "Hola mondongo!\n"
          ]
        }
      ]
    },
    {
      "cell_type": "code",
      "source": [
        "edad = int(input(\"Introduce tu edad:\"))\n",
        "print(f\"{nombre} tiene {edad} años\")"
      ],
      "metadata": {
        "colab": {
          "base_uri": "https://localhost:8080/"
        },
        "id": "Id4rKz4eDXWh",
        "outputId": "7340c074-ba0d-435c-d45b-2e303d68898f"
      },
      "execution_count": 52,
      "outputs": [
        {
          "output_type": "stream",
          "name": "stdout",
          "text": [
            "Introduce tu edad:-1\n",
            "mondongo tiene -1 años\n"
          ]
        }
      ]
    },
    {
      "cell_type": "code",
      "source": [
        "numero = int(20)\n",
        "print(numero)"
      ],
      "metadata": {
        "colab": {
          "base_uri": "https://localhost:8080/"
        },
        "id": "RbtDD0mRDbRt",
        "outputId": "0be1b632-494b-4c03-e017-d66cfec67cfb"
      },
      "execution_count": 51,
      "outputs": [
        {
          "output_type": "stream",
          "name": "stdout",
          "text": [
            "20\n"
          ]
        }
      ]
    },
    {
      "cell_type": "code",
      "source": [
        "mensaje = \"Hola Mundo\"  # String\n",
        "edad = 20               # Integer\n",
        "pi = 3.14159            # Float\n",
        "es_mayor = True         # Boolean\n",
        "imaginario = 3 + 4j     # Imaginario"
      ],
      "metadata": {
        "id": "KaW_lZJSEFfH"
      },
      "execution_count": 53,
      "outputs": []
    },
    {
      "cell_type": "code",
      "source": [
        "imaginario"
      ],
      "metadata": {
        "colab": {
          "base_uri": "https://localhost:8080/"
        },
        "id": "T_BVz69dEHZs",
        "outputId": "d3998912-a693-4add-8806-a8104fe96972"
      },
      "execution_count": 54,
      "outputs": [
        {
          "output_type": "execute_result",
          "data": {
            "text/plain": [
              "(3+4j)"
            ]
          },
          "metadata": {},
          "execution_count": 54
        }
      ]
    },
    {
      "cell_type": "code",
      "source": [
        "pi * 2.0"
      ],
      "metadata": {
        "colab": {
          "base_uri": "https://localhost:8080/"
        },
        "id": "0QqZYyTrEu1c",
        "outputId": "c03418e2-98fb-45ad-f34f-a7adebd2ac22"
      },
      "execution_count": 55,
      "outputs": [
        {
          "output_type": "execute_result",
          "data": {
            "text/plain": [
              "6.28318"
            ]
          },
          "metadata": {},
          "execution_count": 55
        }
      ]
    },
    {
      "cell_type": "code",
      "source": [
        "#             0         1         2\n",
        "#            -3         -2        -1\n",
        "frutas = ['limon', 'aguacate', 'Fresa']\n",
        "print(frutas[-1])"
      ],
      "metadata": {
        "colab": {
          "base_uri": "https://localhost:8080/"
        },
        "id": "q00E1dINEyZM",
        "outputId": "19f04ffa-5bdc-425b-9299-4f9617f99ca9"
      },
      "execution_count": 58,
      "outputs": [
        {
          "output_type": "stream",
          "name": "stdout",
          "text": [
            "Fresa\n"
          ]
        }
      ]
    },
    {
      "cell_type": "code",
      "source": [
        "cosas = ['limon', 10, 3.4159, True, [1,2,3,4], \"mondongo\"]\n",
        "print(cosas)"
      ],
      "metadata": {
        "colab": {
          "base_uri": "https://localhost:8080/"
        },
        "id": "bgCP8BUlFirZ",
        "outputId": "53deeed4-d6a4-4d65-b379-1412cb9bb2c5"
      },
      "execution_count": 59,
      "outputs": [
        {
          "output_type": "stream",
          "name": "stdout",
          "text": [
            "['limon', 10, 3.4159, True, [1, 2, 3, 4], 'mondongo']\n"
          ]
        }
      ]
    },
    {
      "cell_type": "markdown",
      "source": [
        "# Slicing en python\n",
        "[inicio:stop:step]\n",
        "\n",
        "es la posibilidad de obtener rebanadas a partir de un tipo de datos lista o tupla, en general de un tipo de iterable. Un tipo de dato String es un iterable.\n",
        "\n",
        "por defecto\n",
        "inicio = 0\n",
        "stop = al tamaño de la variable\n",
        "step = 1"
      ],
      "metadata": {
        "id": "iNg0JoSkF8vu"
      }
    },
    {
      "cell_type": "code",
      "source": [
        "ejemplo = [1,2,3,4,5,6,'a','b','c','d','e']\n",
        "print(ejemplo)"
      ],
      "metadata": {
        "colab": {
          "base_uri": "https://localhost:8080/"
        },
        "id": "KBd0pvGSG5Rw",
        "outputId": "01aab558-4020-4069-d8bc-6aaf39d3db68"
      },
      "execution_count": 62,
      "outputs": [
        {
          "output_type": "stream",
          "name": "stdout",
          "text": [
            "[1, 2, 3, 4, 5, 6, 'a', 'b', 'c', 'd', 'e']\n"
          ]
        }
      ]
    },
    {
      "cell_type": "code",
      "source": [
        "rebanada = ejemplo[2:6:1]\n",
        "print(rebanada)"
      ],
      "metadata": {
        "colab": {
          "base_uri": "https://localhost:8080/"
        },
        "id": "PytxCXaUHE2N",
        "outputId": "e2b70a0b-1a59-4e97-eecc-8dea287ba1e1"
      },
      "execution_count": 63,
      "outputs": [
        {
          "output_type": "stream",
          "name": "stdout",
          "text": [
            "[3, 4, 5, 6]\n"
          ]
        }
      ]
    },
    {
      "cell_type": "code",
      "source": [
        "rebanada2=ejemplo[6:9:1]\n",
        "print(rebanada2)"
      ],
      "metadata": {
        "colab": {
          "base_uri": "https://localhost:8080/"
        },
        "id": "zikIp1GCHrPD",
        "outputId": "365baf98-5d57-4e22-f85d-30c1a890f9a0"
      },
      "execution_count": 64,
      "outputs": [
        {
          "output_type": "stream",
          "name": "stdout",
          "text": [
            "['a', 'b', 'c']\n"
          ]
        }
      ]
    },
    {
      "cell_type": "code",
      "source": [
        "frutas2 = ('aguacate', 'limon', 'naranja')\n",
        "print(frutas)\n",
        "print(frutas2)\n",
        "\n",
        "frutas[1] = 'Piña'\n",
        "#frutas2[1] = 'Piña'\n",
        "\n",
        "print(frutas[1])\n",
        "print(frutas2[1])\n",
        "\n",
        "print(frutas2[1:2:1])\n",
        "print(frutas2[-1])\n"
      ],
      "metadata": {
        "colab": {
          "base_uri": "https://localhost:8080/"
        },
        "id": "yQuHSYxQI--h",
        "outputId": "a19bf156-2d89-4e83-9579-d0e6d251dbd2"
      },
      "execution_count": 66,
      "outputs": [
        {
          "output_type": "stream",
          "name": "stdout",
          "text": [
            "['limon', 'Piña', 'Fresa']\n",
            "('aguacate', 'limon', 'naranja')\n",
            "Piña\n",
            "limon\n",
            "('limon',)\n",
            "naranja\n"
          ]
        }
      ]
    },
    {
      "cell_type": "markdown",
      "source": [
        "#Diccionarios teoria\n",
        "\n",
        "1. Es un conjunto de pares llave valor\n",
        "1. Agrupados por ':'\n",
        "1. la llave siempre es de tipo string\n",
        "1. el valor puede ser de cualquier tipo\n",
        "1. el selector de la forma ['llave']\n",
        "1. mutable\n",
        "1. se declara entre los caracteres '{' y '}'"
      ],
      "metadata": {
        "id": "qlA7yzWwKIBm"
      }
    },
    {
      "cell_type": "code",
      "source": [
        "alumno = {'numero de cuenta': 318159888, 'carrera' : 'ICO',\n",
        "          'direccion' : {'calle' : 'av los santos', 'numero': 252}\n",
        "          }\n",
        "print(alumno)\n",
        "\n",
        "print(alumno['direccion']['numero'])\n",
        "\n",
        "print(alumno['direccion']['calle'][3:7:1])#imprime \" los \"\n"
      ],
      "metadata": {
        "colab": {
          "base_uri": "https://localhost:8080/"
        },
        "id": "Ea-cwxN0KoL4",
        "outputId": "df88d17b-5316-4abc-9d50-e0f047a13040"
      },
      "execution_count": 73,
      "outputs": [
        {
          "output_type": "stream",
          "name": "stdout",
          "text": [
            "{'numero de cuenta': 318159888, 'carrera': 'ICO', 'direccion': {'calle': 'av los santos', 'numero': 252}}\n",
            "252\n",
            "los \n"
          ]
        }
      ]
    }
  ]
}